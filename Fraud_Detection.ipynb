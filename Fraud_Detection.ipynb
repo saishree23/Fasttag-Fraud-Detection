{
  "nbformat": 4,
  "nbformat_minor": 0,
  "metadata": {
    "colab": {
      "provenance": []
    },
    "kernelspec": {
      "name": "python3",
      "display_name": "Python 3"
    },
    "language_info": {
      "name": "python"
    }
  },
  "cells": [
    {
      "cell_type": "code",
      "execution_count": null,
      "metadata": {
        "id": "3LcmolN7V3zK"
      },
      "outputs": [],
      "source": [
        "# Import necessary libraries\n",
        "import pandas as pd\n",
        "import numpy as np\n",
        "import matplotlib.pyplot as plt\n",
        "import seaborn as sns\n",
        "from sklearn.model_selection import train_test_split\n",
        "from sklearn.preprocessing import StandardScaler\n",
        "from sklearn.ensemble import RandomForestClassifier\n",
        "from sklearn.metrics import classification_report, confusion_matrix\n",
        "\n"
      ]
    },
    {
      "cell_type": "code",
      "source": [
        "# Step 1: Data Exploration\n",
        "\n",
        "# Load the dataset\n",
        "data = pd.read_csv('/FastagFraudDetection (1).csv')\n",
        "\n",
        "# Display basic information about the dataset\n",
        "print(data.info())\n",
        "\n",
        "# Check for missing values\n",
        "print(data.isnull().sum())\n",
        "\n",
        "# Summary statistics\n",
        "print(data.describe())\n",
        "\n",
        "# Distribution of the target variable\n",
        "sns.countplot(x='Fraud_indicator', data=data)\n",
        "plt.title('Distribution of Fraud Indicators')\n",
        "plt.show()\n",
        "\n",
        "# Step 2: Feature Engineering\n",
        "\n",
        "# Concatenate training and test sets\n",
        "combined_data = pd.concat([X_train, X_test])\n",
        "\n",
        "# Specify categorical columns for one-hot encoding\n",
        "categorical_cols = ['Vehicle_Type', 'FastagID', 'TollBoothID', 'Lane_Type', 'Vehicle_Dimensions', 'Geographical_Location', 'Vehicle_Plate_Number']\n",
        "\n",
        "# Split the combined data back into training and test sets\n",
        "X_train_encoded = combined_data[:len(X_train)]\n",
        "X_test_encoded = combined_data[len(X_train):]\n",
        "\n",
        "# Handle remaining missing values, if any\n",
        "X_train_encoded.fillna(0, inplace=True)\n",
        "X_test_encoded.fillna(0, inplace=True)\n",
        "\n",
        "# Feature scaling\n",
        "scaler = StandardScaler()\n",
        "X_train_scaled = scaler.fit_transform(X_train_encoded)\n",
        "X_test_scaled = scaler.transform(X_test_encoded)\n",
        "\n",
        "\n",
        "# Train Random Forest Classifier\n",
        "rf_classifier = RandomForestClassifier()\n",
        "rf_classifier.fit(X_train_scaled, y_train)\n",
        "\n",
        "# Predictions\n",
        "y_pred = rf_classifier.predict(X_test_scaled)\n",
        "\n",
        "# Evaluate model\n",
        "print(classification_report(y_test, y_pred))\n",
        "print(confusion_matrix(y_test, y_pred))\n",
        "\n",
        "# Step 4: Real-time Fraud Detection\n",
        "\n",
        "# Explore the feasibility of real-time fraud detection using the trained model\n",
        "# You may need to deploy the model to a real-time environment and set up data pipelines for inference\n",
        "\n",
        "# Step 5: Explanatory Analysis\n",
        "\n",
        "# Explore factors contributing to fraudulent transactions\n",
        "# You can analyze feature importance from the trained model, visualize patterns in fraudulent transactions, etc.\n"
      ],
      "metadata": {
        "colab": {
          "base_uri": "https://localhost:8080/",
          "height": 1000
        },
        "id": "FreoMlcoWOI5",
        "outputId": "ded91c70-d245-4ec4-9481-598017be0182"
      },
      "execution_count": null,
      "outputs": [
        {
          "output_type": "stream",
          "name": "stdout",
          "text": [
            "<class 'pandas.core.frame.DataFrame'>\n",
            "RangeIndex: 5000 entries, 0 to 4999\n",
            "Data columns (total 13 columns):\n",
            " #   Column                 Non-Null Count  Dtype \n",
            "---  ------                 --------------  ----- \n",
            " 0   Transaction_ID         5000 non-null   int64 \n",
            " 1   Timestamp              5000 non-null   object\n",
            " 2   Vehicle_Type           5000 non-null   object\n",
            " 3   FastagID               4451 non-null   object\n",
            " 4   TollBoothID            5000 non-null   object\n",
            " 5   Lane_Type              5000 non-null   object\n",
            " 6   Vehicle_Dimensions     5000 non-null   object\n",
            " 7   Transaction_Amount     5000 non-null   int64 \n",
            " 8   Amount_paid            5000 non-null   int64 \n",
            " 9   Geographical_Location  5000 non-null   object\n",
            " 10  Vehicle_Speed          5000 non-null   int64 \n",
            " 11  Vehicle_Plate_Number   5000 non-null   object\n",
            " 12  Fraud_indicator        5000 non-null   object\n",
            "dtypes: int64(4), object(9)\n",
            "memory usage: 507.9+ KB\n",
            "None\n",
            "Transaction_ID             0\n",
            "Timestamp                  0\n",
            "Vehicle_Type               0\n",
            "FastagID                 549\n",
            "TollBoothID                0\n",
            "Lane_Type                  0\n",
            "Vehicle_Dimensions         0\n",
            "Transaction_Amount         0\n",
            "Amount_paid                0\n",
            "Geographical_Location      0\n",
            "Vehicle_Speed              0\n",
            "Vehicle_Plate_Number       0\n",
            "Fraud_indicator            0\n",
            "dtype: int64\n",
            "       Transaction_ID  Transaction_Amount  Amount_paid  Vehicle_Speed\n",
            "count     5000.000000          5000.00000  5000.000000    5000.000000\n",
            "mean      2500.500000           161.06200   141.261000      67.851200\n",
            "std       1443.520003           112.44995   106.480996      16.597547\n",
            "min          1.000000             0.00000     0.000000      10.000000\n",
            "25%       1250.750000           100.00000    90.000000      54.000000\n",
            "50%       2500.500000           130.00000   120.000000      67.000000\n",
            "75%       3750.250000           290.00000   160.000000      82.000000\n",
            "max       5000.000000           350.00000   350.000000     118.000000\n"
          ]
        },
        {
          "output_type": "display_data",
          "data": {
            "text/plain": [
              "<Figure size 640x480 with 1 Axes>"
            ],
            "image/png": "[encoded data removed]"
          },
          "metadata": {}
        },
        {
          "output_type": "stream",
          "name": "stderr",
          "text": [
            "<ipython-input-11-ce353ac129fd>:33: SettingWithCopyWarning: \n",
            "A value is trying to be set on a copy of a slice from a DataFrame\n",
            "\n",
            "See the caveats in the documentation: https://pandas.pydata.org/pandas-docs/stable/user_guide/indexing.html#returning-a-view-versus-a-copy\n",
            "  X_train_encoded.fillna(0, inplace=True)\n",
            "<ipython-input-11-ce353ac129fd>:34: SettingWithCopyWarning: \n",
            "A value is trying to be set on a copy of a slice from a DataFrame\n",
            "\n",
            "See the caveats in the documentation: https://pandas.pydata.org/pandas-docs/stable/user_guide/indexing.html#returning-a-view-versus-a-copy\n",
            "  X_test_encoded.fillna(0, inplace=True)\n"
          ]
        },
        {
          "output_type": "stream",
          "name": "stdout",
          "text": [
            "              precision    recall  f1-score   support\n",
            "\n",
            "       Fraud       1.00      0.72      0.84       217\n",
            "   Not Fraud       0.93      1.00      0.96       783\n",
            "\n",
            "    accuracy                           0.94      1000\n",
            "   macro avg       0.96      0.86      0.90      1000\n",
            "weighted avg       0.94      0.94      0.94      1000\n",
            "\n",
            "[[157  60]\n",
            " [  0 783]]\n"
          ]
        }
      ]
    }
  ]
}